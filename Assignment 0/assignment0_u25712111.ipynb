{
 "cells": [
  {
   "cell_type": "markdown",
   "metadata": {},
   "source": [
    "When you run this code all you need to do is run this code and press any button to close the window simple :)\n",
    "\n",
    "For the first image where we have to convert it to grayscale or change rgb to gray colored image I have used the image that I took from my phone and for the blurring proccess I have used the image that is my own face."
   ]
  },
  {
   "cell_type": "code",
   "execution_count": 1,
   "metadata": {},
   "outputs": [],
   "source": [
    "import cv2\n",
    "import numpy as np\n",
    "\n",
    "original_image = cv2.imread(\"./img.jpg\")\n",
    "\n",
    "# Converting the image to grayscale\n",
    "gray_image = cv2.cvtColor(original_image, cv2.COLOR_BGR2GRAY) # Using the function of opencv\n",
    "\n",
    "# Displaying the grayscale image\n",
    "cv2.imshow('Grayscale Image', gray_image)\n",
    "cv2.waitKey(0)\n",
    "cv2.destroyAllWindows()"
   ]
  },
  {
   "cell_type": "markdown",
   "metadata": {},
   "source": [
    "Same instruction for this code too :)"
   ]
  },
  {
   "cell_type": "code",
   "execution_count": 2,
   "metadata": {},
   "outputs": [],
   "source": [
    "def blur_image(image, num_iterations):\n",
    "    for _ in range(num_iterations):\n",
    "        blurred_image = cv2.blur(image, (3, 3))\n",
    "        image = blurred_image\n",
    "    return blurred_image\n",
    "original_image = cv2.imread(\"./image.jpg\")\n",
    "# Also one more thing using the blurr function of the opencv library\n",
    "# Performing blurring here\n",
    "num_iterations = 55\n",
    "blurred_result = blur_image(original_image, num_iterations)\n",
    "\n",
    "# Displaying the original and blurred images\n",
    "cv2.imshow('Original Image', original_image)\n",
    "cv2.imshow('Blurred Image', blurred_result)\n",
    "cv2.waitKey(0)\n",
    "cv2.destroyAllWindows()\n"
   ]
  }
 ],
 "metadata": {
  "kernelspec": {
   "display_name": "Python 3",
   "language": "python",
   "name": "python3"
  },
  "language_info": {
   "codemirror_mode": {
    "name": "ipython",
    "version": 3
   },
   "file_extension": ".py",
   "mimetype": "text/x-python",
   "name": "python",
   "nbconvert_exporter": "python",
   "pygments_lexer": "ipython3",
   "version": "3.11.5"
  }
 },
 "nbformat": 4,
 "nbformat_minor": 2
}
